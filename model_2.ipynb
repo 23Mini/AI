{
 "cells": [
  {
   "cell_type": "code",
   "execution_count": 1,
   "metadata": {},
   "outputs": [
    {
     "name": "stderr",
     "output_type": "stream",
     "text": [
      "/home/nischita/anaconda/lib/python3.6/site-packages/h5py/__init__.py:36: FutureWarning: Conversion of the second argument of issubdtype from `float` to `np.floating` is deprecated. In future, it will be treated as `np.float64 == np.dtype(float).type`.\n",
      "  from ._conv import register_converters as _register_converters\n",
      "Using TensorFlow backend.\n"
     ]
    }
   ],
   "source": [
    "import numpy\n",
    "import matplotlib.pyplot as plt\n",
    "from keras.datasets import mnist\n",
    "from keras.models import Sequential\n",
    "from keras.layers import Dense\n",
    "from keras.layers import Dropout\n",
    "from keras.utils import np_utils\n",
    "from keras.optimizers import SGD"
   ]
  },
  {
   "cell_type": "code",
   "execution_count": 2,
   "metadata": {},
   "outputs": [],
   "source": [
    "# random seed\n",
    "seed = 50\n",
    "numpy.random.seed(seed)\n",
    "\n",
    "# load the data\n",
    "(X_train, y_train), (X_test, y_test) = mnist.load_data()\n",
    "\n",
    "# flatten each 28*28 image to a single 784 vector\n",
    "num_pixels = X_train.shape[1] * X_train.shape[2]\n",
    "X_train = X_train.reshape(X_train.shape[0], num_pixels).astype('float32')\n",
    "X_test = X_test.reshape(X_test.shape[0], num_pixels).astype('float32')"
   ]
  },
  {
   "cell_type": "code",
   "execution_count": 3,
   "metadata": {},
   "outputs": [],
   "source": [
    "# Normalization of inputs from 0-255 to 0-1\n",
    "X_train = X_train / 255\n",
    "X_test = X_test / 255\n",
    "\n",
    "# One hot encoding of outputs\n",
    "y_train = np_utils.to_categorical(y_train)\n",
    "y_test = np_utils.to_categorical(y_test)\n",
    "num_classes = y_test.shape[1]"
   ]
  },
  {
   "cell_type": "code",
   "execution_count": 4,
   "metadata": {},
   "outputs": [
    {
     "name": "stdout",
     "output_type": "stream",
     "text": [
      "Train on 60000 samples, validate on 10000 samples\n",
      "Epoch 1/10\n",
      " - 5s - loss: 1.1441 - acc: 0.6606 - val_loss: 0.4097 - val_acc: 0.8809\n",
      "Epoch 2/10\n",
      " - 5s - loss: 0.3640 - acc: 0.8947 - val_loss: 0.3267 - val_acc: 0.9035\n",
      "Epoch 3/10\n",
      " - 5s - loss: 0.2959 - acc: 0.9140 - val_loss: 0.2677 - val_acc: 0.9225\n",
      "Epoch 4/10\n",
      " - 5s - loss: 0.2592 - acc: 0.9245 - val_loss: 0.2420 - val_acc: 0.9290\n",
      "Epoch 5/10\n",
      " - 5s - loss: 0.2341 - acc: 0.9317 - val_loss: 0.2138 - val_acc: 0.9361\n",
      "Epoch 6/10\n",
      " - 4s - loss: 0.2141 - acc: 0.9373 - val_loss: 0.2051 - val_acc: 0.9399\n",
      "Epoch 7/10\n",
      " - 4s - loss: 0.1991 - acc: 0.9418 - val_loss: 0.1880 - val_acc: 0.9432\n",
      "Epoch 8/10\n",
      " - 5s - loss: 0.1859 - acc: 0.9459 - val_loss: 0.1776 - val_acc: 0.9453\n",
      "Epoch 9/10\n",
      " - 5s - loss: 0.1752 - acc: 0.9492 - val_loss: 0.1737 - val_acc: 0.9485\n",
      "Epoch 10/10\n",
      " - 4s - loss: 0.1651 - acc: 0.9519 - val_loss: 0.1692 - val_acc: 0.9502\n",
      "Testing Accuracy: 95.02%\n"
     ]
    }
   ],
   "source": [
    "# Define the baseline model\n",
    "def baseline_model():\n",
    "\tsgd = SGD(momentum=0.9)\n",
    "\tmodel = Sequential()\n",
    "\tmodel.add(Dense(20, input_dim=num_pixels, kernel_initializer='normal', activation='relu'))\n",
    "\tmodel.add(Dense(100, kernel_initializer='normal', activation='relu'))\n",
    "\tmodel.add(Dense(num_classes, kernel_initializer='normal', activation='softmax'))\n",
    "\t# Compile model\n",
    "\tmodel.compile(loss='categorical_crossentropy', optimizer='sgd', metrics=['accuracy'])\n",
    "\treturn model\n",
    "\n",
    "# Build model\n",
    "model = baseline_model()\n",
    "# Fit the model\n",
    "History = model.fit(X_train, y_train, validation_data=(X_test, y_test), epochs=10, batch_size=20, verbose=2)\n",
    "# Final evaluation of the model\n",
    "scores = model.evaluate(X_test, y_test, verbose=0)\n",
    "print(\"Testing Accuracy: %.2f%%\" % (scores[1]*100))"
   ]
  },
  {
   "cell_type": "code",
   "execution_count": null,
   "metadata": {},
   "outputs": [],
   "source": [
    "#Plotting graphs\n",
    "\n",
    "epochs = range(10)\n",
    "plt.figure(1) \n",
    "plt.plot(epochs,History.history['acc'],label='acc')\n",
    "plt.xlabel('Epochs')\n",
    "plt.ylabel('Percentage')\n",
    "plt.title('Training Accuracy')\n",
    " \n",
    "plt.figure(2) \n",
    "plt.plot(epochs,History.history['loss'],label='loss')\n",
    "plt.xlabel('Epochs')\n",
    "plt.ylabel('Loss')\n",
    "plt.title('Training Loss')\n",
    "\n",
    "\n",
    "plt.figure(3)\n",
    "plt.plot(epochs,History.history['val_acc'])\n",
    "plt.xlabel('Epochs')\n",
    "plt.ylabel('Percentage')\n",
    "plt.title('Validation Accuracy')\n",
    " \n",
    "\n",
    "plt.figure(4)\n",
    "plt.plot(epochs,History.history['val_loss'])\n",
    "plt.xlabel('Epochs')\n",
    "plt.ylabel('Loss')\n",
    "plt.title('Validation Loss')\n",
    "\n",
    "\n",
    "plt.show()"
   ]
  }
 ],
 "metadata": {
  "kernelspec": {
   "display_name": "Python 3",
   "language": "python",
   "name": "python3"
  },
  "language_info": {
   "codemirror_mode": {
    "name": "ipython",
    "version": 3
   },
   "file_extension": ".py",
   "mimetype": "text/x-python",
   "name": "python",
   "nbconvert_exporter": "python",
   "pygments_lexer": "ipython3",
   "version": "3.6.4"
  }
 },
 "nbformat": 4,
 "nbformat_minor": 2
}
